{
 "cells": [
  {
   "cell_type": "code",
   "execution_count": 62,
   "metadata": {},
   "outputs": [],
   "source": [
    "import open3d as o3d\n",
    "import matplotlib.pyplot as plt\n",
    "import pandas as pd\n",
    "import numpy as np\n",
    "import imageio"
   ]
  },
  {
   "cell_type": "code",
   "execution_count": 63,
   "metadata": {},
   "outputs": [
    {
     "name": "stdout",
     "output_type": "stream",
     "text": [
      "TriangleMesh with 4731 points and 8754 triangles.\n",
      "[[-1500.          1000.          1499.99987793]\n",
      " [-1312.5         1000.          1499.99987793]\n",
      " [-1500.           937.5         1499.99987793]\n",
      " ...\n",
      " [  -49.5102005    563.93121338   -54.59370041]\n",
      " [  -49.68389893   567.44897461   -54.80879974]\n",
      " [  -45.92039871   566.14611816   -55.94490051]]\n",
      "[[   0    1    2]\n",
      " [   3    4    5]\n",
      " [   3    6    4]\n",
      " ...\n",
      " [4730 4709 4729]\n",
      " [4730 4727 4711]\n",
      " [4730 4729 4727]]\n",
      "[[890.1249 890.1249 890.1249 ... 890.1249 890.1249 890.1249]\n",
      " [892.6079 892.6079 892.6079 ... 892.6079 892.6079 892.6079]\n",
      " [895.1046 895.1046 895.1046 ... 895.1046 895.1046 895.1046]\n",
      " ...\n",
      " [895.1048 895.1048 895.1048 ... 895.1048 895.1048 895.1048]\n",
      " [892.6081 892.6081 892.6081 ... 892.6081 892.6081 892.6081]\n",
      " [890.125  890.125  890.125  ... 890.125  890.125  890.125 ]] [[0 0 0 ... 0 0 0]\n",
      " [0 0 0 ... 0 0 0]\n",
      " [0 0 0 ... 0 0 0]\n",
      " ...\n",
      " [0 0 0 ... 0 0 0]\n",
      " [0 0 0 ... 0 0 0]\n",
      " [0 0 0 ... 0 0 0]] [[3025 3025 3025 ... 2762 2762 2762]\n",
      " [3025 3025 3025 ... 2762 2762 2762]\n",
      " [3025 3025 3025 ... 2762 2762 2762]\n",
      " ...\n",
      " [2250 2250 2250 ... 2513 2513 2513]\n",
      " [2250 2250 2250 ... 2513 2513 2513]\n",
      " [2250 2250 2250 ... 2513 2513 2513]]\n",
      "1898\n"
     ]
    },
    {
     "data": {
      "image/png": "[encoded data removed]",
      "text/plain": [
       "<Figure size 432x288 with 1 Axes>"
      ]
     },
     "metadata": {
      "needs_background": "light"
     },
     "output_type": "display_data"
    }
   ],
   "source": [
    "mesh = o3d.io.read_triangle_mesh('bunny_mesh_merge.OBJ')\n",
    "print(mesh)\n",
    "print(np.asarray(mesh.vertices))\n",
    "print(np.asarray(mesh.triangles))\n",
    "# print(type(mesh))\n",
    "mesh = o3d.t.geometry.TriangleMesh.from_legacy(mesh)\n",
    "scene = o3d.t.geometry.RaycastingScene()\n",
    "scene.add_triangles(mesh)\n",
    "\n",
    "rays = o3d.t.geometry.RaycastingScene.create_rays_pinhole(\n",
    "    fov_deg=90,\n",
    "    center=[0, 500, 0],\n",
    "    eye=[0, 500, 200],\n",
    "    up=[0, -1, 0],\n",
    "    width_px=1280,\n",
    "    height_px=720,\n",
    ")\n",
    "\n",
    "ans = scene.cast_rays(rays)\n",
    "plt.imshow(ans['t_hit'].numpy())\n",
    "# imageio.imwrite('test.jpeg', ans['t_hit'].numpy())\n",
    "print(ans['t_hit'].numpy(), ans['geometry_ids'].numpy(), ans['primitive_ids'].numpy())\n",
    "df = pd.DataFrame(ans['primitive_ids'].numpy())\n",
    "df.to_csv('./test.csv', index=False)\n",
    "\n",
    "ans_unique = np.unique(ans['primitive_ids'].numpy())\n",
    "print(ans_unique.shape[0])\n",
    "\n"
   ]
  },
  {
   "cell_type": "code",
   "execution_count": 64,
   "metadata": {},
   "outputs": [
    {
     "name": "stdout",
     "output_type": "stream",
     "text": [
      "[[890.1249  890.1249  890.1249  ... 890.1251  890.1251  890.1251 ]\n",
      " [892.6079  892.6079  892.6079  ... 892.6081  892.6081  892.6081 ]\n",
      " [895.1046  895.1046  895.1046  ... 895.1048  895.1048  895.1048 ]\n",
      " ...\n",
      " [895.1048  895.1048  895.1048  ... 895.1047  895.1047  895.1047 ]\n",
      " [892.6081  892.6081  892.6081  ... 892.60803 892.60803 892.60803]\n",
      " [890.125   890.125   890.125   ... 890.1249  890.1249  890.1249 ]] [[0 0 0 ... 0 0 0]\n",
      " [0 0 0 ... 0 0 0]\n",
      " [0 0 0 ... 0 0 0]\n",
      " ...\n",
      " [0 0 0 ... 0 0 0]\n",
      " [0 0 0 ... 0 0 0]\n",
      " [0 0 0 ... 0 0 0]] [[2760 2760 2760 ... 2932 2932 2932]\n",
      " [2760 2760 2760 ... 2932 2932 2932]\n",
      " [2760 2760 2760 ... 2932 2932 2932]\n",
      " ...\n",
      " [2502 2502 2502 ... 2366 2366 2366]\n",
      " [2502 2502 2502 ... 2366 2366 2366]\n",
      " [2502 2502 2502 ... 2366 2366 2366]]\n",
      "2294\n"
     ]
    },
    {
     "data": {
      "image/png": "[encoded data removed]",
      "text/plain": [
       "<Figure size 432x288 with 1 Axes>"
      ]
     },
     "metadata": {
      "needs_background": "light"
     },
     "output_type": "display_data"
    }
   ],
   "source": [
    "mesh = o3d.io.read_triangle_mesh('bunny_mesh_merge.OBJ')\n",
    "# print(mesh)\n",
    "# print(np.asarray(mesh.vertices))\n",
    "# print(np.asarray(mesh.triangles))\n",
    "# print(type(mesh))\n",
    "mesh = o3d.t.geometry.TriangleMesh.from_legacy(mesh)\n",
    "scene = o3d.t.geometry.RaycastingScene()\n",
    "scene.add_triangles(mesh)\n",
    "\n",
    "# rays = o3d.t.geometry.RaycastingScene.create_rays_pinhole(\n",
    "#     fov_deg=90,\n",
    "#     center=[0, 500, 0],\n",
    "#     eye=[0, 500, 200],\n",
    "#     up=[-1, 0, 0],\n",
    "#     width_px=1280,\n",
    "#     height_px=720,\n",
    "# )\n",
    "\n",
    "rays = o3d.t.geometry.RaycastingScene.create_rays_pinhole(\n",
    "    fov_deg=90,\n",
    "    eye=[-200, 500, 0],\n",
    "    center=[0, 500, 0],\n",
    "    up=[0, -1, 0],\n",
    "    width_px=1280,\n",
    "    height_px=720,\n",
    ")\n",
    "\n",
    "ans = scene.cast_rays(rays)\n",
    "plt.imshow(ans['t_hit'].numpy())\n",
    "print(ans['t_hit'].numpy(), ans['geometry_ids'].numpy(), ans['primitive_ids'].numpy())\n",
    "df = pd.DataFrame(ans['primitive_ids'].numpy())\n",
    "df.to_csv('./test_1.csv', index=False)\n",
    "\n",
    "ans_unique = np.unique(ans['primitive_ids'].numpy())\n",
    "print(ans_unique.shape[0])"
   ]
  },
  {
   "cell_type": "code",
   "execution_count": 65,
   "metadata": {},
   "outputs": [
    {
     "name": "stdout",
     "output_type": "stream",
     "text": [
      "[23.  0.  0. ... 10.  0.  0.]\n",
      "1898\n",
      "[  4. 805. 805. ...   0.   0.   0.]\n",
      "2294\n",
      "[4. 0. 0. ... 0. 0. 0.]\n",
      "518\n",
      "148928.0\n",
      "0.16159722222222223\n"
     ]
    }
   ],
   "source": [
    "base_num_arr = np.zeros(8754+1)\n",
    "base_view = pd.read_csv('./test.csv').to_numpy()\n",
    "base_unique, base_counts = np.unique(base_view, return_counts=True)\n",
    "\n",
    "for idx in range(base_unique.shape[0]):\n",
    "    if base_unique[idx] == 4294967295:\n",
    "        base_num_arr[0] = base_counts[idx]\n",
    "    else:\n",
    "        base_num_arr[base_unique[idx]] = base_counts[idx]\n",
    "\n",
    "print(base_num_arr)\n",
    "print(np.count_nonzero(base_num_arr))\n",
    "\n",
    "\n",
    "src_num_arr = np.zeros(8754+1)\n",
    "src_view = pd.read_csv('./test_1.csv').to_numpy()\n",
    "unique, counts = np.unique(src_view, return_counts=True)\n",
    "\n",
    "for idx in range(unique.shape[0]):\n",
    "    if unique[idx] == 4294967295:\n",
    "        src_num_arr[0] = counts[idx]\n",
    "    else:\n",
    "        src_num_arr[unique[idx]] = counts[idx]\n",
    "print(src_num_arr)\n",
    "print(np.count_nonzero(src_num_arr))\n",
    "\n",
    "merge_min = np.minimum(base_num_arr, src_num_arr)\n",
    "print(merge_min)\n",
    "print(np.count_nonzero(merge_min))\n",
    "print(np.sum(merge_min))\n",
    "coverage = np.sum(merge_min) / (1280*720)\n",
    "print(coverage)\n"
   ]
  }
 ],
 "metadata": {
  "interpreter": {
   "hash": "aee8b7b246df8f9039afb4144a1f6fd8d2ca17a180786b69acc140d282b71a49"
  },
  "kernelspec": {
   "display_name": "Python 3.8.3 64-bit",
   "language": "python",
   "name": "python3"
  },
  "language_info": {
   "codemirror_mode": {
    "name": "ipython",
    "version": 3
   },
   "file_extension": ".py",
   "mimetype": "text/x-python",
   "name": "python",
   "nbconvert_exporter": "python",
   "pygments_lexer": "ipython3",
   "version": "3.9.10"
  },
  "orig_nbformat": 4
 },
 "nbformat": 4,
 "nbformat_minor": 2
}
