{
 "cells": [
  {
   "cell_type": "code",
   "execution_count": 93,
   "metadata": {},
   "outputs": [],
   "source": [
    "import open3d as o3d\n",
    "import matplotlib.pyplot as plt\n",
    "import pandas as pd\n",
    "import numpy as np"
   ]
  },
  {
   "cell_type": "code",
   "execution_count": 96,
   "metadata": {},
   "outputs": [
    {
     "name": "stdout",
     "output_type": "stream",
     "text": [
      "[[890.1248  890.1248  890.1248  ... 890.1248  890.1248  890.1248 ]\n",
      " [892.60785 892.60785 892.60785 ... 892.60785 892.60785 892.60785]\n",
      " [895.1046  895.1046  895.1046  ... 895.1046  895.1046  895.1046 ]\n",
      " ...\n",
      " [895.1048  895.1048  895.1048  ... 895.1048  895.1048  895.1048 ]\n",
      " [892.60803 892.60803 892.60803 ... 892.60803 892.60803 892.60803]\n",
      " [890.12494 890.12494 890.12494 ... 890.12494 890.12494 890.12494]] [[0 0 0 ... 0 0 0]\n",
      " [0 0 0 ... 0 0 0]\n",
      " [0 0 0 ... 0 0 0]\n",
      " ...\n",
      " [0 0 0 ... 0 0 0]\n",
      " [0 0 0 ... 0 0 0]\n",
      " [0 0 0 ... 0 0 0]] [[3025 3025 3025 ... 2762 2762 2762]\n",
      " [3025 3025 3025 ... 2762 2762 2762]\n",
      " [3025 3025 3025 ... 2762 2762 2762]\n",
      " ...\n",
      " [2250 2250 2250 ... 2513 2513 2513]\n",
      " [2250 2250 2250 ... 2513 2513 2513]\n",
      " [2250 2250 2250 ... 2513 2513 2513]]\n",
      "1902\n"
     ]
    },
    {
     "data": {
      "image/png": "[encoded data removed]",
      "text/plain": [
       "<Figure size 432x288 with 1 Axes>"
      ]
     },
     "metadata": {
      "needs_background": "light"
     },
     "output_type": "display_data"
    }
   ],
   "source": [
    "mesh = o3d.io.read_triangle_mesh('bunny_mesh_merge.OBJ')\n",
    "# print(mesh)\n",
    "# print(np.asarray(mesh.vertices))\n",
    "# print(np.asarray(mesh.triangles))\n",
    "# print(type(mesh))\n",
    "mesh = o3d.t.geometry.TriangleMesh.from_legacy(mesh)\n",
    "scene = o3d.t.geometry.RaycastingScene()\n",
    "scene.add_triangles(mesh)\n",
    "\n",
    "rays = o3d.t.geometry.RaycastingScene.create_rays_pinhole(\n",
    "    fov_deg=90,\n",
    "    center=[0, 500, 0],\n",
    "    eye=[0, 500, 200],\n",
    "    up=[0, -1, 0],\n",
    "    width_px=1280,\n",
    "    height_px=720,\n",
    ")\n",
    "\n",
    "ans = scene.cast_rays(rays)\n",
    "plt.imshow(ans['t_hit'].numpy())\n",
    "print(ans['t_hit'].numpy(), ans['geometry_ids'].numpy(), ans['primitive_ids'].numpy())\n",
    "df = pd.DataFrame(ans['primitive_ids'].numpy())\n",
    "df.to_csv('./test.csv')\n",
    "\n",
    "ans_unique = np.unique(ans['primitive_ids'].numpy())\n",
    "print(ans_unique.shape[0])\n",
    "\n"
   ]
  },
  {
   "cell_type": "code",
   "execution_count": 97,
   "metadata": {},
   "outputs": [
    {
     "name": "stdout",
     "output_type": "stream",
     "text": [
      "[[890.1248  890.1248  890.1248  ... 890.1248  890.1248  890.1248 ]\n",
      " [892.60785 892.60785 892.60785 ... 892.60785 892.60785 892.60785]\n",
      " [895.1046  895.1046  895.1046  ... 895.1046  895.1046  895.1046 ]\n",
      " ...\n",
      " [895.1047  895.1047  895.1047  ... 895.1047  895.1047  895.1047 ]\n",
      " [892.608   892.608   892.608   ... 892.608   892.608   892.608  ]\n",
      " [890.1248  890.1248  890.1248  ... 890.1248  890.1248  890.1248 ]] [[0 0 0 ... 0 0 0]\n",
      " [0 0 0 ... 0 0 0]\n",
      " [0 0 0 ... 0 0 0]\n",
      " ...\n",
      " [0 0 0 ... 0 0 0]\n",
      " [0 0 0 ... 0 0 0]\n",
      " [0 0 0 ... 0 0 0]] [[2895 2895 2895 ... 2954 2954 2954]\n",
      " [2895 2895 2895 ... 2954 2954 2954]\n",
      " [2895 2895 2895 ... 2954 2954 2954]\n",
      " ...\n",
      " [2442 2442 2442 ... 2383 2383 2383]\n",
      " [2442 2442 2442 ... 2383 2383 2383]\n",
      " [2442 2442 2442 ... 2383 2383 2383]]\n",
      "2608\n"
     ]
    },
    {
     "data": {
      "image/png": "[encoded data removed]",
      "text/plain": [
       "<Figure size 432x288 with 1 Axes>"
      ]
     },
     "metadata": {
      "needs_background": "light"
     },
     "output_type": "display_data"
    }
   ],
   "source": [
    "mesh = o3d.io.read_triangle_mesh('bunny_mesh_merge.OBJ')\n",
    "# print(mesh)\n",
    "# print(np.asarray(mesh.vertices))\n",
    "# print(np.asarray(mesh.triangles))\n",
    "# print(type(mesh))\n",
    "mesh = o3d.t.geometry.TriangleMesh.from_legacy(mesh)\n",
    "scene = o3d.t.geometry.RaycastingScene()\n",
    "scene.add_triangles(mesh)\n",
    "\n",
    "rays = o3d.t.geometry.RaycastingScene.create_rays_pinhole(\n",
    "    fov_deg=90,\n",
    "    center=[0, 500, 0],\n",
    "    eye=[0, 500, 1000],\n",
    "    up=[0, -1, 0],\n",
    "    width_px=1280,\n",
    "    height_px=720,\n",
    ")\n",
    "\n",
    "ans = scene.cast_rays(rays)\n",
    "plt.imshow(ans['t_hit'].numpy())\n",
    "print(ans['t_hit'].numpy(), ans['geometry_ids'].numpy(), ans['primitive_ids'].numpy())\n",
    "df = pd.DataFrame(ans['primitive_ids'].numpy())\n",
    "df.to_csv('./test_1.csv')\n",
    "\n",
    "ans_unique = np.unique(ans['primitive_ids'].numpy())\n",
    "print(ans_unique.shape[0])"
   ]
  },
  {
   "cell_type": "code",
   "execution_count": 95,
   "metadata": {},
   "outputs": [
    {
     "name": "stdout",
     "output_type": "stream",
     "text": [
      "<class 'open3d.cpu.pybind.geometry.TriangleMesh'>\n",
      "<class 'open3d.cpu.pybind.t.geometry.TriangleMesh'>\n",
      "<class 'open3d.cpu.pybind.t.geometry.RaycastingScene'>\n",
      "<open3d.cpu.pybind.t.geometry.RaycastingScene object at 0x7f7ec72ef2b0>\n"
     ]
    },
    {
     "data": {
      "text/plain": [
       "<matplotlib.image.AxesImage at 0x7f7ec5f3f8e0>"
      ]
     },
     "execution_count": 95,
     "metadata": {},
     "output_type": "execute_result"
    },
    {
     "data": {
      "image/png": "[encoded data removed]",
      "text/plain": [
       "<Figure size 432x288 with 1 Axes>"
      ]
     },
     "metadata": {
      "needs_background": "light"
     },
     "output_type": "display_data"
    }
   ],
   "source": [
    "# Create meshes and convert to open3d.t.geometry.TriangleMesh\n",
    "cube = o3d.geometry.TriangleMesh.create_box().translate([0, 0, 0])\n",
    "print(type(cube))\n",
    "cube = o3d.t.geometry.TriangleMesh.from_legacy(cube)\n",
    "print(type(cube))\n",
    "# torus = o3d.geometry.TriangleMesh.create_torus().translate([0, 0, 2])\n",
    "# torus = o3d.t.geometry.TriangleMesh.from_legacy(torus)\n",
    "# sphere = o3d.geometry.TriangleMesh.create_sphere(radius=0.5).translate(\n",
    "#     [1, 2, 3])\n",
    "# sphere = o3d.t.geometry.TriangleMesh.from_legacy(sphere)\n",
    "# mesh = o3d.t.geometry.TriangleMesh.from_legacy(mesh)\n",
    "scene = o3d.t.geometry.RaycastingScene()\n",
    "print(type(scene))\n",
    "print(scene)\n",
    "scene.add_triangles(cube)\n",
    "\n",
    "# scene.add_triangles(torus)\n",
    "# _ = scene.add_triangles(sphere)\n",
    "\n",
    "\n",
    "rays = o3d.t.geometry.RaycastingScene.create_rays_pinhole(\n",
    "    fov_deg=90,\n",
    "    center=[0, 0, 0],\n",
    "    eye=[4, -4, 0],\n",
    "    up=[0, 1, 0],\n",
    "    width_px=1280,\n",
    "    height_px=720,\n",
    ")\n",
    "\n",
    "\n",
    "# We can directly pass the rays tensor to the cast_rays function.\n",
    "ans = scene.cast_rays(rays)\n",
    "# print(ans['t_hit'].numpy(), ans['geometry_ids'].numpy(), ans['primitive_ids'].numpy())\n",
    "# df = pd.DataFrame(ans['primitive_ids'].numpy())\n",
    "# df.to_csv('./test.csv')\n",
    "plt.imshow(ans['primitive_ids'].numpy())\n",
    "\n"
   ]
  }
 ],
 "metadata": {
  "interpreter": {
   "hash": "aee8b7b246df8f9039afb4144a1f6fd8d2ca17a180786b69acc140d282b71a49"
  },
  "kernelspec": {
   "display_name": "Python 3.8.3 64-bit",
   "language": "python",
   "name": "python3"
  },
  "language_info": {
   "codemirror_mode": {
    "name": "ipython",
    "version": 3
   },
   "file_extension": ".py",
   "mimetype": "text/x-python",
   "name": "python",
   "nbconvert_exporter": "python",
   "pygments_lexer": "ipython3",
   "version": "3.8.3"
  },
  "orig_nbformat": 4
 },
 "nbformat": 4,
 "nbformat_minor": 2
}
