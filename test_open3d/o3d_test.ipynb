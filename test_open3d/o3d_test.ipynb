{
 "cells": [
  {
   "cell_type": "code",
   "execution_count": 166,
   "metadata": {},
   "outputs": [],
   "source": [
    "import open3d as o3d\n",
    "import matplotlib.pyplot as plt\n",
    "import pandas as pd\n",
    "import numpy as np\n",
    "from scipy.spatial.transform import Rotation as R"
   ]
  },
  {
   "cell_type": "code",
   "execution_count": 167,
   "metadata": {},
   "outputs": [],
   "source": [
    "FOV = 90\n",
    "WIDTH = 1280\n",
    "HEIGHT = 720\n",
    "MAX_NUM_TRI = 8754"
   ]
  },
  {
   "cell_type": "code",
   "execution_count": 168,
   "metadata": {},
   "outputs": [],
   "source": [
    "def get_viewpoint_tri_id(mesh_obj_path, _eye, _center, _up, filename):\n",
    "    mesh = o3d.io.read_triangle_mesh(mesh_obj_path)\n",
    "    # print(mesh)\n",
    "    # print(np.asarray(mesh.vertices))\n",
    "    # print(np.asarray(mesh.triangles))\n",
    "    # print(type(mesh))\n",
    "    mesh = o3d.t.geometry.TriangleMesh.from_legacy(mesh)\n",
    "    scene = o3d.t.geometry.RaycastingScene()\n",
    "    scene.add_triangles(mesh)\n",
    "\n",
    "    rays = o3d.t.geometry.RaycastingScene.create_rays_pinhole(\n",
    "        fov_deg=FOV,\n",
    "        eye=_eye,\n",
    "        center=_center,\n",
    "        up=_up,\n",
    "        width_px=WIDTH,\n",
    "        height_px=HEIGHT,\n",
    "    )\n",
    "\n",
    "    ans = scene.cast_rays(rays)\n",
    "    # plt.imshow(ans['t_hit'].numpy())\n",
    "    # print(ans['t_hit'].numpy(), ans['geometry_ids'].numpy(), ans['primitive_ids'].numpy())\n",
    "    df = pd.DataFrame(ans['primitive_ids'].numpy())\n",
    "    df.to_csv(f'./{filename}_primitive_ids.csv', index=False)\n",
    "    # ans_unique = np.unique(ans['primitive_ids'].numpy())\n",
    "    # print(ans_unique.shape[0])"
   ]
  },
  {
   "cell_type": "code",
   "execution_count": 176,
   "metadata": {},
   "outputs": [
    {
     "name": "stdout",
     "output_type": "stream",
     "text": [
      "TriangleMesh with 4731 points and 8754 triangles.\n",
      "[[-1500.          1000.          1499.99987793]\n",
      " [-1312.5         1000.          1499.99987793]\n",
      " [-1500.           937.5         1499.99987793]\n",
      " ...\n",
      " [  -49.5102005    563.93121338   -54.59370041]\n",
      " [  -49.68389893   567.44897461   -54.80879974]\n",
      " [  -45.92039871   566.14611816   -55.94490051]]\n",
      "[[   0    1    2]\n",
      " [   3    4    5]\n",
      " [   3    6    4]\n",
      " ...\n",
      " [4730 4709 4729]\n",
      " [4730 4727 4711]\n",
      " [4730 4729 4727]]\n",
      "[[500.39078 501.17447 501.96066 ... 501.96072 501.1746  500.3909 ]\n",
      " [500.39078 501.17447 501.96066 ... 501.96072 501.1746  500.3909 ]\n",
      " [500.39078 501.17447 501.96066 ... 501.96072 501.1746  500.3909 ]\n",
      " ...\n",
      " [500.39093 501.17462 501.96072 ... 501.96072 501.17453 500.39084]\n",
      " [500.39093 501.17462 501.96072 ... 501.96072 501.17453 500.39084]\n",
      " [500.39093 501.17462 501.96072 ... 501.96072 501.17453 500.39084]] [[0 0 0 ... 0 0 0]\n",
      " [0 0 0 ... 0 0 0]\n",
      " [0 0 0 ... 0 0 0]\n",
      " ...\n",
      " [0 0 0 ... 0 0 0]\n",
      " [0 0 0 ... 0 0 0]\n",
      " [0 0 0 ... 0 0 0]] [[3042 3042 3042 ... 2485 2485 2485]\n",
      " [3042 3042 3042 ... 2485 2485 2485]\n",
      " [3042 3042 3042 ... 2485 2485 2485]\n",
      " ...\n",
      " [2915 2915 2915 ... 2553 2553 2553]\n",
      " [2915 2915 2915 ... 2553 2553 2553]\n",
      " [2915 2915 2915 ... 2553 2553 2553]]\n",
      "2033\n",
      "[1029 1033 1034 ... 8750 8752 8753]\n",
      "8753\n",
      "1\n"
     ]
    },
    {
     "data": {
      "image/png": "[encoded data removed]",
      "text/plain": [
       "<Figure size 432x288 with 1 Axes>"
      ]
     },
     "metadata": {
      "needs_background": "light"
     },
     "output_type": "display_data"
    }
   ],
   "source": [
    "mesh = o3d.io.read_triangle_mesh('bunny_mesh_merge.OBJ')\n",
    "print(mesh)\n",
    "print(np.asarray(mesh.vertices))\n",
    "print(np.asarray(mesh.triangles))\n",
    "# print(type(mesh))\n",
    "mesh = o3d.t.geometry.TriangleMesh.from_legacy(mesh)\n",
    "scene = o3d.t.geometry.RaycastingScene()\n",
    "scene.add_triangles(mesh)\n",
    "\n",
    "rays = o3d.t.geometry.RaycastingScene.create_rays_pinhole(\n",
    "    fov_deg=90,\n",
    "    eye=[200, 500, -0],\n",
    "    center=[199, 500, -0],\n",
    "    up=[0, -0, 1],\n",
    "    width_px=1280,\n",
    "    height_px=720,\n",
    ")\n",
    "\n",
    "ans = scene.cast_rays(rays)\n",
    "plt.imshow(ans['t_hit'].numpy())\n",
    "print(ans['t_hit'].numpy(), ans['geometry_ids'].numpy(), ans['primitive_ids'].numpy())\n",
    "df = pd.DataFrame(ans['primitive_ids'].numpy())\n",
    "df.to_csv('./test.csv', index=False)\n",
    "\n",
    "ans_unique, counts = np.unique(ans['primitive_ids'].numpy(), return_counts=True)\n",
    "print(ans_unique.shape[0])\n",
    "print(ans_unique)\n",
    "print(ans_unique[-1])\n",
    "print(counts[-1])\n",
    "\n"
   ]
  },
  {
   "cell_type": "code",
   "execution_count": 175,
   "metadata": {},
   "outputs": [
    {
     "name": "stdout",
     "output_type": "stream",
     "text": [
      "2458\n",
      "[   0    1    2 ... 8748 8750 8751]\n",
      "8751\n",
      "155\n"
     ]
    }
   ],
   "source": [
    "mesh = o3d.io.read_triangle_mesh('bunny_mesh_merge.OBJ')\n",
    "# print(mesh)\n",
    "# print(np.asarray(mesh.vertices))\n",
    "# print(np.asarray(mesh.triangles))\n",
    "# print(type(mesh))\n",
    "mesh = o3d.t.geometry.TriangleMesh.from_legacy(mesh)\n",
    "scene = o3d.t.geometry.RaycastingScene()\n",
    "scene.add_triangles(mesh)\n",
    "\n",
    "# rays = o3d.t.geometry.RaycastingScene.create_rays_pinhole(\n",
    "#     fov_deg=90,\n",
    "#     center=[0, 500, 0],\n",
    "#     eye=[0, 500, 200],\n",
    "#     up=[-1, 0, 0],\n",
    "#     width_px=1280,\n",
    "#     height_px=720,\n",
    "# )\n",
    "\n",
    "_eye = np.array([-200, 500, 0])\n",
    "\n",
    "rays = o3d.t.geometry.RaycastingScene.create_rays_pinhole(\n",
    "    fov_deg=90,\n",
    "    eye=[0, 500, -200],\n",
    "    center=[-0, 500, -199],\n",
    "    up=[0, -1, 0],\n",
    "    width_px=1280,\n",
    "    height_px=720,\n",
    ")\n",
    "\n",
    "ans = scene.cast_rays(rays)\n",
    "# plt.imshow(ans['t_hit'].numpy())\n",
    "# print(ans['t_hit'].numpy(), ans['geometry_ids'].numpy(), ans['primitive_ids'].numpy())\n",
    "df = pd.DataFrame(ans['primitive_ids'].numpy())\n",
    "df.to_csv('./test_1.csv', index=False)\n",
    "\n",
    "ans_unique, counts = np.unique(ans['primitive_ids'].numpy(), return_counts=True)\n",
    "print(ans_unique.shape[0])\n",
    "print(ans_unique)\n",
    "print(ans_unique[-1])\n",
    "print(counts[-1])"
   ]
  },
  {
   "cell_type": "code",
   "execution_count": 171,
   "metadata": {},
   "outputs": [],
   "source": [
    "def cal_coverage_by_np(base_view, src_view):\n",
    "    base_num_arr = np.zeros(MAX_NUM_TRI+1)\n",
    "    base_unique, base_counts = np.unique(base_view, return_counts=True)\n",
    "    for idx in range(base_unique.shape[0]):\n",
    "        if base_unique[idx] == 4294967295:\n",
    "            base_num_arr[0] = base_counts[idx]\n",
    "        else:\n",
    "            base_num_arr[base_unique[idx]] = base_counts[idx]\n",
    "\n",
    "    src_num_arr = np.zeros(MAX_NUM_TRI+1)\n",
    "    unique, counts = np.unique(src_view, return_counts=True)\n",
    "    for idx in range(unique.shape[0]):\n",
    "        if unique[idx] == 4294967295:\n",
    "            src_num_arr[0] = counts[idx]\n",
    "        else:\n",
    "            src_num_arr[unique[idx]] = counts[idx]\n",
    "\n",
    "    merge_min = np.minimum(base_num_arr, src_num_arr)\n",
    "    coverage = np.sum(merge_min) / (WIDTH*HEIGHT)\n",
    "    return coverage"
   ]
  },
  {
   "cell_type": "code",
   "execution_count": 172,
   "metadata": {},
   "outputs": [
    {
     "name": "stdout",
     "output_type": "stream",
     "text": [
      "[ 0.  0.  0. ... 69.  1.  0.]\n",
      "2033\n",
      "[828. 933. 128. ...   0.   0.   0.]\n",
      "2458\n",
      "[0. 0. 0. ... 0. 0. 0.]\n",
      "448\n",
      "33619.0\n",
      "0.03647894965277778\n"
     ]
    }
   ],
   "source": [
    "base_num_arr = np.zeros(8754+1)\n",
    "base_view = pd.read_csv('./test.csv').to_numpy()\n",
    "base_unique, base_counts = np.unique(base_view, return_counts=True)\n",
    "\n",
    "for idx in range(base_unique.shape[0]):\n",
    "    if base_unique[idx] == 4294967295:\n",
    "        base_num_arr[0] = base_counts[idx]\n",
    "    else:\n",
    "        base_num_arr[base_unique[idx]] = base_counts[idx]\n",
    "\n",
    "print(base_num_arr)\n",
    "print(np.count_nonzero(base_num_arr))\n",
    "\n",
    "\n",
    "src_num_arr = np.zeros(8754+1)\n",
    "src_view = pd.read_csv('./test_1.csv').to_numpy()\n",
    "unique, counts = np.unique(src_view, return_counts=True)\n",
    "\n",
    "for idx in range(unique.shape[0]):\n",
    "    if unique[idx] == 4294967295:\n",
    "        src_num_arr[0] = counts[idx]\n",
    "    else:\n",
    "        src_num_arr[unique[idx]] = counts[idx]\n",
    "print(src_num_arr)\n",
    "print(np.count_nonzero(src_num_arr))\n",
    "\n",
    "merge_min = np.minimum(base_num_arr, src_num_arr)\n",
    "print(merge_min)\n",
    "print(np.count_nonzero(merge_min))\n",
    "print(np.sum(merge_min))\n",
    "coverage = np.sum(merge_min) / (1280*720)\n",
    "print(coverage)\n"
   ]
  },
  {
   "cell_type": "code",
   "execution_count": 173,
   "metadata": {},
   "outputs": [],
   "source": [
    "def euler_to_camera(x,y,z,yaw,pitch,roll):\n",
    "    '''\n",
    "    in UE\n",
    "    '''\n",
    "    # euler to vector\n",
    "    eye = []\n",
    "    center = []\n",
    "    up = []\n",
    "\n",
    "    shift_xyz = [x,y,z]\n",
    "    r = R.from_euler('zyx', [yaw, pitch, roll], degrees=True)\n",
    "    rotMat = r.as_matrix()\n",
    "    \n",
    "    eye = np.round_(np.array([shift_xyz[1],-shift_xyz[2],-shift_xyz[0]]), decimals=2)\n",
    "    \n",
    "    center_arr = np.dot(rotMat, np.array([1,0,0]).T)\n",
    "    print('center_arr: ', center_arr)\n",
    "    center = np.round_(np.array(eye + [center_arr[1],-center_arr[2],-center_arr[0]]), decimals=2)\n",
    "    # center_arr = np.array(center_arr + shift_xyz)\n",
    "    # center = np.round_([center_arr[1],center_arr[2],-center_arr[0]], decimals=2)\n",
    "    \n",
    "    up_arr = np.dot(rotMat, np.array([0,0,-1]).T)\n",
    "    up = np.round_([up_arr[1],-up_arr[2],-up_arr[0]], decimals=2)\n",
    "\n",
    "    print('eye: ', eye)\n",
    "    print('center: ', center)\n",
    "    print('up: ', up)\n",
    "    print()\n",
    "\n",
    "    return eye, center, up"
   ]
  },
  {
   "cell_type": "code",
   "execution_count": 174,
   "metadata": {},
   "outputs": [
    {
     "name": "stdout",
     "output_type": "stream",
     "text": [
      "center_arr:  [ 2.22044605e-16 -1.00000000e+00  0.00000000e+00]\n",
      "eye:  [200 500   0]\n",
      "center:  [199. 500.  -0.]\n",
      "up:  [ 0.  1. -0.]\n",
      "\n",
      "[200 500   0]\n",
      "[199. 500.  -0.]\n",
      "[ 0.  1. -0.]\n"
     ]
    }
   ],
   "source": [
    "x = 0\n",
    "y = 2\n",
    "z = 0\n",
    "yaw = -90\n",
    "pitch = 0\n",
    "roll = 0\n",
    "eye, center, up = euler_to_camera(x*100,y*100,z*100-500,yaw,pitch,roll)\n",
    "print(eye)\n",
    "print(center)\n",
    "print(up)\n",
    "# eye=[-200, 500, 0],\n",
    "# center=[0, 500, 0],\n",
    "# up=[0, -1, 0],\n"
   ]
  }
 ],
 "metadata": {
  "interpreter": {
   "hash": "aee8b7b246df8f9039afb4144a1f6fd8d2ca17a180786b69acc140d282b71a49"
  },
  "kernelspec": {
   "display_name": "Python 3.8.3 64-bit",
   "language": "python",
   "name": "python3"
  },
  "language_info": {
   "codemirror_mode": {
    "name": "ipython",
    "version": 3
   },
   "file_extension": ".py",
   "mimetype": "text/x-python",
   "name": "python",
   "nbconvert_exporter": "python",
   "pygments_lexer": "ipython3",
   "version": "3.8.3"
  },
  "orig_nbformat": 4
 },
 "nbformat": 4,
 "nbformat_minor": 2
}
